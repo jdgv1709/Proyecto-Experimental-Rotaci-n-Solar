{
 "cells": [
  {
   "cell_type": "markdown",
   "metadata": {},
   "source": [
    "# Analisis Velocidad: 12 de Abril\n",
    "# Juan David Galan Vargas - 202111470"
   ]
  },
  {
   "cell_type": "code",
   "execution_count": 134,
   "metadata": {},
   "outputs": [],
   "source": [
    "import os\n",
    "import pandas as pd\n",
    "import numpy as np\n",
    "import matplotlib.pyplot as plt\n",
    "from scipy.stats import trim_mean\n",
    "from scipy.stats import linregress"
   ]
  },
  {
   "cell_type": "code",
   "execution_count": 135,
   "metadata": {},
   "outputs": [],
   "source": [
    "\n",
    "\n",
    "def read_csv_files(folder_path):\n",
    "    # Initialize an empty dictionary to store DataFrames\n",
    "    dfs = []\n",
    "    \n",
    "    # Iterate over all files in the folder\n",
    "    for filename in os.listdir(folder_path):\n",
    "        # Check if the file is a CSV file\n",
    "        if filename.endswith(\".csv\"):\n",
    "            # Construct the full file path\n",
    "            file_path = os.path.join(folder_path, filename)\n",
    "            # Read the CSV file into a DataFrame\n",
    "            df = pd.read_csv(file_path)\n",
    "            df.columns = [\"V_air\", \"V_ritz\"]\n",
    "            # Store the DataFrame in the dictionary with the file name as the key\n",
    "            dfs.append(df)\n",
    "    \n",
    "    return dfs\n",
    "\n",
    "# Path to the folder containing CSV files\n",
    "folder_path = r\"C:\\Users\\juang\\Documents\\Tareas JD\\Universidad\\Materias\\7 Semestre\\Proyecto Experimental\\sol abril 12\\Velocidades\"\n",
    "# Call the function to read CSV files and create DataFrames\n",
    "dataframes = read_csv_files(folder_path)\n",
    "\n",
    "\n"
   ]
  },
  {
   "cell_type": "code",
   "execution_count": 136,
   "metadata": {},
   "outputs": [
    {
     "data": {
      "text/plain": [
       "(V_air    -565.634836\n",
       " V_ritz   -589.091966\n",
       " dtype: float64,\n",
       " V_air    -475.690710\n",
       " V_ritz   -442.432388\n",
       " dtype: float64,\n",
       " array([-595.25197681, -576.0615742 ]))"
      ]
     },
     "execution_count": 136,
     "metadata": {},
     "output_type": "execute_result"
    }
   ],
   "source": [
    "dataframes[0].mean(), dataframes[0].median(), trim_mean(dataframes[0], 0.15)"
   ]
  },
  {
   "cell_type": "code",
   "execution_count": 137,
   "metadata": {},
   "outputs": [
    {
     "data": {
      "text/plain": [
       "numpy.float64"
      ]
     },
     "execution_count": 137,
     "metadata": {},
     "output_type": "execute_result"
    }
   ],
   "source": [
    "d=(dataframes[0])\n",
    "type(d[\"V_air\"].mean())"
   ]
  },
  {
   "cell_type": "code",
   "execution_count": 138,
   "metadata": {},
   "outputs": [
    {
     "data": {
      "text/plain": [
       "V_air    -565.634836\n",
       "V_ritz   -589.091966\n",
       "dtype: float64"
      ]
     },
     "execution_count": 138,
     "metadata": {},
     "output_type": "execute_result"
    }
   ],
   "source": [
    "dataframes[0].mean()"
   ]
  },
  {
   "cell_type": "code",
   "execution_count": 139,
   "metadata": {},
   "outputs": [],
   "source": [
    "medias_air=[]\n",
    "medianas_air=[]\n",
    "mediana_truncadas_air=[]\n",
    "for i in range(len(dataframes)):\n",
    "    d=(dataframes[i])\n",
    "    medias_air.append(d[\"V_air\"].mean())\n",
    "    medianas_air.append(np.median(d[\"V_air\"]))\n",
    "    mediana_truncadas_air.append(trim_mean(d[\"V_air\"], 0.1))\n",
    "medias_r=[]\n",
    "medianas_r=[]\n",
    "mediana_truncadas_r=[]\n",
    "for i in range(len(dataframes)):\n",
    "    d=(dataframes[i])\n",
    "    medias_r.append(d[\"V_ritz\"].mean())\n",
    "    medianas_r.append(d[\"V_ritz\"].median())\n",
    "    mediana_truncadas_r.append(trim_mean(d[\"V_ritz\"], 0.1))"
   ]
  },
  {
   "cell_type": "code",
   "execution_count": 140,
   "metadata": {},
   "outputs": [],
   "source": [
    "x=np.linspace(-4,4,9)"
   ]
  },
  {
   "cell_type": "code",
   "execution_count": 141,
   "metadata": {},
   "outputs": [],
   "source": [
    "pendientes_air=[]\n",
    "pendientes_ritz=[]\n",
    "#pendientes.append(slope)"
   ]
  },
  {
   "cell_type": "code",
   "execution_count": 142,
   "metadata": {},
   "outputs": [
    {
     "name": "stdout",
     "output_type": "stream",
     "text": [
      "0.9778139027505328\n",
      "0.9776718368795576\n",
      "0.9715451133163097\n",
      "0.9707755424434582\n",
      "0.9775484344199336\n",
      "0.9774353085779239\n",
      "972.3402143674112\n"
     ]
    },
    {
     "data": {
      "image/png": "[encoded data removed]",
      "text/plain": [
       "<Figure size 432x288 with 1 Axes>"
      ]
     },
     "metadata": {
      "needs_background": "light"
     },
     "output_type": "display_data"
    }
   ],
   "source": [
    "plt.scatter(x,medias_air,label=\"Media Air\")\n",
    "slope, intercept, r_value, p_value, std_err = linregress(x, medias_air)\n",
    "pendientes_air.append(slope)\n",
    "#plt.plot(x,x*slope+intercept)\n",
    "print(r_value)\n",
    "plt.scatter(x,medias_r,label=\"Media Ritz\")\n",
    "slope, intercept, r_value, p_value, std_err = linregress(x, medias_r)\n",
    "pendientes_ritz.append(slope)\n",
    "#plt.plot(x,x*slope+intercept)\n",
    "print(r_value)\n",
    "plt.scatter(x,medianas_air,label=\"Mediana Air\")\n",
    "slope, intercept, r_value, p_value, std_err = linregress(x, medianas_air)\n",
    "pendientes_air.append(slope)\n",
    "#plt.plot(x,x*slope+intercept)\n",
    "print(r_value)\n",
    "plt.scatter(x,medianas_r,label=\"Mediana Ritz\")\n",
    "slope, intercept, r_value, p_value, std_err = linregress(x, medianas_r)\n",
    "pendientes_ritz.append(slope)\n",
    "#plt.plot(x,x*slope+intercept)\n",
    "print(r_value)\n",
    "plt.scatter(x,mediana_truncadas_air,label=\"Media Truncada Air\")\n",
    "slope, intercept, r_value, p_value, std_err = linregress(x, mediana_truncadas_air)\n",
    "pendientes_air.append(slope)\n",
    "#plt.plot(x,x*slope+intercept)\n",
    "print(r_value)\n",
    "plt.scatter(x,mediana_truncadas_r, label=\"Media Truncada Ritz\")\n",
    "slope, intercept, r_value, p_value, std_err = linregress(x, mediana_truncadas_r)\n",
    "pendientes_ritz.append(slope)\n",
    "#plt.plot(x,x*slope+intercept)\n",
    "plt.plot(x,np.mean(pendientes_air)*x+intercept,label=\"P.M Air: \"+str(np.mean(pendientes_air)),c=\"blue\")\n",
    "plt.plot(x,np.mean(pendientes_ritz)*x+intercept,label=\"P.M Ritz: \"+str(np.mean(pendientes_ritz)),c=\"r\")\n",
    "print(r_value)\n",
    "plt.title(\"Velocidad Tangencial del Sol a lo largo del Ecuador\")\n",
    "plt.xlabel(\"Posición en el Ecuador respecto al centro\")\n",
    "plt.ylabel(\"Velocidad Tangencial [m/s]\")\n",
    "plt.legend(fontsize=\"x-small\",ncols=2)\n",
    "plt.grid(True)\n",
    "print(intercept)"
   ]
  },
  {
   "cell_type": "code",
   "execution_count": 143,
   "metadata": {},
   "outputs": [],
   "source": [
    "a=972.3402143674112\n",
    "medias_r = [x - a for x in medias_r]\n",
    "medias_air = [x - a for x in medias_air]\n",
    "medianas_r = [x - a for x in medianas_r]\n",
    "medianas_air = [x - a for x in medianas_air]\n",
    "mediana_truncadas_r = [x - a for x in mediana_truncadas_r]\n",
    "mediana_truncadas_air = [x - a for x in mediana_truncadas_air]"
   ]
  },
  {
   "cell_type": "code",
   "execution_count": 147,
   "metadata": {},
   "outputs": [
    {
     "name": "stdout",
     "output_type": "stream",
     "text": [
      "0.9778139027505329\n",
      "0.9776718368795578\n",
      "0.9715451133163095\n",
      "0.9707755424434584\n",
      "0.9775484344199336\n",
      "0.9774353085779239\n",
      "5.0527483431829344e-14\n"
     ]
    },
    {
     "data": {
      "image/png": "[encoded data removed]",
      "text/plain": [
       "<Figure size 432x288 with 1 Axes>"
      ]
     },
     "metadata": {
      "needs_background": "light"
     },
     "output_type": "display_data"
    }
   ],
   "source": [
    "pendientes_air=[]\n",
    "pendientes_ritz=[]\n",
    "\n",
    "plt.scatter(x,medias_air,label=\"Media Air\")\n",
    "slope, intercept, r_value, p_value, std_err = linregress(x, medias_air)\n",
    "pendientes_air.append(slope)\n",
    "#plt.plot(x,x*slope+intercept)\n",
    "print(r_value)\n",
    "plt.scatter(x,medias_r,label=\"Media Ritz\")\n",
    "slope, intercept, r_value, p_value, std_err = linregress(x, medias_r)\n",
    "pendientes_ritz.append(slope)\n",
    "#plt.plot(x,x*slope+intercept)\n",
    "print(r_value)\n",
    "plt.scatter(x,medianas_air,label=\"Mediana Air\")\n",
    "slope, intercept, r_value, p_value, std_err = linregress(x, medianas_air)\n",
    "pendientes_air.append(slope)\n",
    "#plt.plot(x,x*slope+intercept)\n",
    "print(r_value)\n",
    "plt.scatter(x,medianas_r,label=\"Mediana Ritz\")\n",
    "slope, intercept, r_value, p_value, std_err = linregress(x, medianas_r)\n",
    "pendientes_ritz.append(slope)\n",
    "#plt.plot(x,x*slope+intercept)\n",
    "print(r_value)\n",
    "plt.scatter(x,mediana_truncadas_air,label=\"Media Truncada Air\")\n",
    "slope, intercept, r_value, p_value, std_err = linregress(x, mediana_truncadas_air)\n",
    "pendientes_air.append(slope)\n",
    "#plt.plot(x,x*slope+intercept)\n",
    "print(r_value)\n",
    "plt.scatter(x,mediana_truncadas_r, label=\"Media Truncada Ritz\")\n",
    "slope, intercept, r_value, p_value, std_err = linregress(x, mediana_truncadas_r)\n",
    "pendientes_ritz.append(slope)\n",
    "#plt.plot(x,x*slope+intercept)\n",
    "plt.plot(x,np.mean(pendientes_air)*x+intercept,label=\"P.M Air: \"+str(np.mean(pendientes_air)),c=\"blue\")\n",
    "plt.plot(x,np.mean(pendientes_ritz)*x+intercept,label=\"P.M Ritz: \"+str(np.mean(pendientes_ritz)),c=\"r\")\n",
    "print(r_value)\n",
    "plt.title(\"Velocidad Tangencial Ajustada del Sol en el Ecuador\")\n",
    "plt.xlabel(\"Posición en el Ecuador respecto al centro\")\n",
    "plt.ylabel(\"Velocidad Tangencial [m/s]\")\n",
    "plt.legend(fontsize=\"x-small\",ncols=2)\n",
    "plt.grid(True)\n",
    "print(intercept)"
   ]
  },
  {
   "cell_type": "code",
   "execution_count": null,
   "metadata": {},
   "outputs": [],
   "source": []
  },
  {
   "cell_type": "code",
   "execution_count": 145,
   "metadata": {},
   "outputs": [
    {
     "data": {
      "text/plain": [
       "1750.0"
      ]
     },
     "execution_count": 145,
     "metadata": {},
     "output_type": "execute_result"
    }
   ],
   "source": [
    "(1500+2000)/2"
   ]
  },
  {
   "cell_type": "code",
   "execution_count": 146,
   "metadata": {},
   "outputs": [
    {
     "data": {
      "text/plain": [
       "28.935065670563134"
      ]
     },
     "execution_count": 146,
     "metadata": {},
     "output_type": "execute_result"
    }
   ],
   "source": [
    "(2*np.pi/(1750/696300000))/86400"
   ]
  }
 ],
 "metadata": {
  "kernelspec": {
   "display_name": "base",
   "language": "python",
   "name": "python3"
  },
  "language_info": {
   "codemirror_mode": {
    "name": "ipython",
    "version": 3
   },
   "file_extension": ".py",
   "mimetype": "text/x-python",
   "name": "python",
   "nbconvert_exporter": "python",
   "pygments_lexer": "ipython3",
   "version": "3.9.7"
  }
 },
 "nbformat": 4,
 "nbformat_minor": 2
}
