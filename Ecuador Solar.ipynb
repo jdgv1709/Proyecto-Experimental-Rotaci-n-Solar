{
 "cells": [
  {
   "cell_type": "markdown",
   "metadata": {},
   "source": [
    "# Ubicación del Ecuador Solar: Juan David Galan Vargas 202111470"
   ]
  },
  {
   "cell_type": "markdown",
   "metadata": {},
   "source": [
    "Dado que nos interesa tomar espectros del borde del sol, buscamos determinar P (Angulo entre el eje de rotación y el norte del sol)\n",
    "Para determinar el norte del sol es necesario [Si la montura del telescopio es altazimutal] calcular el angulo paralactico (Angulo entre el Zenith y el norte del sol, es necesaria la posición del sol)"
   ]
  },
  {
   "cell_type": "code",
   "execution_count": 75,
   "metadata": {},
   "outputs": [],
   "source": [
    "import numpy as np\n",
    "import matplotlib.pyplot as plt\n",
    "import scipy.ndimage as ndimage\n",
    "import pandas as pd\n",
    "import math"
   ]
  },
  {
   "cell_type": "markdown",
   "metadata": {},
   "source": [
    "Basado en el Capitulo 29 de Astronomical Algorithms"
   ]
  },
  {
   "cell_type": "code",
   "execution_count": 76,
   "metadata": {},
   "outputs": [],
   "source": [
    "#Convertir Fecha a JD Capitulo 7\n",
    "fecha = {\n",
    "    \"Dia\": 6,\n",
    "    \"Mes\": 4,\n",
    "    \"Año\": 2024,\n",
    "}"
   ]
  },
  {
   "cell_type": "code",
   "execution_count": 77,
   "metadata": {},
   "outputs": [],
   "source": [
    "def calc_JD(f):\n",
    "    D=f[\"Dia\"]\n",
    "    M=f[\"Mes\"]\n",
    "    Y=f[\"Año\"]\n",
    "    if Y<=2:\n",
    "        Y=Y-1\n",
    "        M=M+12\n",
    "    A= int(Y/100)\n",
    "    B=2-A +int(A/4)\n",
    "    J= int(365.25*(Y+4716))+int(30.6001*(M+1))+D+B-1524.5\n",
    "    return J"
   ]
  },
  {
   "cell_type": "code",
   "execution_count": 78,
   "metadata": {},
   "outputs": [
    {
     "data": {
      "text/plain": [
       "2460406.5008549923"
      ]
     },
     "execution_count": 78,
     "metadata": {},
     "output_type": "execute_result"
    }
   ],
   "source": [
    "JD=calc_JD(fecha)\n",
    "#Para entre 2005-2050\n",
    "t=fecha[\"Año\"]-2000\n",
    "delta_t=62.92+(0.32217*t)+(0.005589*(t**2))\n",
    "delta_t\n",
    "JD=JD+(delta_t/86400)\n",
    "JD"
   ]
  },
  {
   "cell_type": "code",
   "execution_count": 79,
   "metadata": {},
   "outputs": [],
   "source": [
    "theta= (JD-2398220)*(360/25.38)\n",
    "I=7.25\n",
    "K=73.6667+(1.3958333*((JD-2396758)/36525))\n"
   ]
  },
  {
   "cell_type": "code",
   "execution_count": 80,
   "metadata": {},
   "outputs": [],
   "source": [
    "#Capitulo 25 y 22\n",
    "tau= (JD-2451545)/365250\n",
    "def termino(A,B,C,tau):\n",
    "    return A*np.cos((B+C*tau))\n"
   ]
  },
  {
   "cell_type": "code",
   "execution_count": 81,
   "metadata": {},
   "outputs": [],
   "source": [
    "A0=[175347046, 3341656, 34894, 3497, 3418, 3136, 2676, 2343, 1324, 1273, 1199, 990, 902, 857, 780, 753, 505, 492, 357, 317, 284, 271, 243, 206, 205, 202, 156, 132, 126, 115, 103, 102, 102, 99, 98, 86,85, 85, 80, 79, 75, 74, 74, 70, 62, 61, 57, 56, 56, 52, 52, 51, 49, 41, 41, 39, 37, 37, 36, 36, 33, 30, 30, 25]\n",
    "B0=[0, 4.6692568, 4.62610, 2.7441, 2.8289, 3.6277, 4.4181, 6.1352, 0.7425, 2.0371, 1.1096, 5.233, 2.045, 3.508, 1.179, 2.533, 4.583, 4.205, 2.920, 5.849, 1.899, 0.315, 0.345, 4.806, 1.869, 2.458, 0.833, 3.411, 1.083, 0.645, 0.636, 0.976, 4.267, 6.21, 0.68, 5.98, 1.30, 3.67, 1.81, 3.04, 1.76, 3.50, 4.68, 0.83, 3.98, 1.82, 2.78, 4.39, 3.47, 0.19, 1.33, 0.28, 0.49, 5.37, 2.40, 6.17, 6.04, 2.57, 1.71, 1.78, 0.59, 0.44, 2.74, 3.16]\n",
    "C0=[0, 6283.0758500, 12566.15170, 5753.3849, 3.5231, 77713.7715, 7860.4194, 3930.2097, 11506.7698, 529.6910, 1577.3435, 5884.927, 26.298, 398.149, 5223.694, 5507.553, 18849.228, 775.523, 0.067, 11790.629, 796.298, 10977.079, 5486.778, 2544.314, 5573.143, 6069.777, 213.299, 2942.463, 20.775, 0.980, 4694.003, 15720.839, 7.114, 2146.17, 155.42, 161000.69,6275.96, 71430.70, 17260.15, 12036.46, 5088.63, 3154.69, 801.82, 9437.76, 8827.39, 7084.90, 6286.60, 14143.50, 6279.55, 12139.55, 1748.02, 5856.48, 1194.45, 8429.24, 19651.05, 10447.39, 10213.29, 1059.38, 2352.87, 6812.77, 17789.85, 83996.85, 1349.87, 4690.48]\n",
    "A1=[628331966747, 206059, 4303, 425, 119, 109, 93, 72, 68, 67, 59, 56, 45, 36, 29, 21, 19, 19, 17, 16, 16, 15, 12, 12, 12, 12, 11, 10, 10, 9,9,8,6,6]\n",
    "B1=[0, 2.678235, 2.6351, 1.590, 5.796, 2.966, 2.59, 1.14, 1.87, 4.41, 2.89, 2.17, 0.40, 0.47, 2.65, 5.34, 1.85, 4.97, 2.99, 0.03, 1.43, 1.21, 2.83, 3.26, 5.27, 2.08, 0.77, 1.30, 4.24, 2.70, 5.64, 5.30, 2.65, 4.67]\n",
    "C1=[0,6283.075850, 12566.1517, 3.523, 26.298, 1577.344, 18849.23, 529.69, 398.15, 5507.55, 5223.69, 155.42, 796.30, 775.52, 7.11, 0.98, 5486.78, 213.30, 6275.96, 2544.31, 2146.17, 10977.08, 1748.02, 5088.63, 1194.45, 4694.00, 553.57, 6286.60, 1349.87, 242.73, 951.72, 2352.87, 9437.76, 4690.48]\n",
    "A2=[52919, 8720, 309, 27, 16, 16, 10, 9, 7, 5, 4, 4, 3, 3, 3, 3, 3,3,2,2]\n",
    "B2=[0, 1.0721, 0.867, 0.05, 5.19, 3.68, 0.76, 2.06, 0.83, 4.66, 1.03, 3.44, 5.14, 6.05, 1.19, 6.12, 0.31, 2.28, 4.38, 3.75]\n",
    "C2=[0, 6283.0758, 12566.152, 3.52, 26.30, 155.42, 18849.23, 77713.77, 775.52, 1577.34, 7.11, 5573.14, 796.30, 5507.55, 242.73, 529.69, 398.15, 553.57, 5223.69,0.98]\n",
    "A3=[289,35,17,3,1,1,1]\n",
    "B3=[5.844,0,5.49,5.20,4.72,5.30,5.97]\n",
    "C3=[6283.076,0,12566.15,155.42,3.52,18849.23,242.73]\n",
    "A4=[114,8,1]\n",
    "B4=[3.142,4.13,3.84]\n",
    "C4=[0,6283.08,12566.15]\n",
    "A5=[1]\n",
    "B5=[3.14]\n",
    "C5=[0]"
   ]
  },
  {
   "cell_type": "code",
   "execution_count": 82,
   "metadata": {},
   "outputs": [],
   "source": [
    "def sumatoria(A,B,C,tau):\n",
    "    suma=[]\n",
    "    for i in range(len(A)):\n",
    "        x=termino(A[i],B[i],C[i],tau)\n",
    "        suma.append(x)\n",
    "    respuesta=sum(suma)\n",
    "    return respuesta"
   ]
  },
  {
   "cell_type": "code",
   "execution_count": 83,
   "metadata": {},
   "outputs": [
    {
     "data": {
      "text/plain": [
       "154.22930148299247"
      ]
     },
     "execution_count": 83,
     "metadata": {},
     "output_type": "execute_result"
    }
   ],
   "source": [
    "L0=sumatoria(A0,B0,C0,tau)\n",
    "L1=sumatoria(A1,B1,C1,tau)\n",
    "L2=sumatoria(A2,B2,C2,tau)\n",
    "L3=sumatoria(A3,B3,C3,tau)\n",
    "L4=sumatoria(A4,B4,C4,tau)\n",
    "L5=sumatoria(A5,B5,C5,tau)\n",
    "L= (L0+(L1*tau)+(L2*(tau**2)))+(L3*(tau**3))+(L4*(tau**4))+(L5*(tau**5))\n",
    "L=L/(10**8)\n",
    "L"
   ]
  },
  {
   "cell_type": "code",
   "execution_count": 84,
   "metadata": {},
   "outputs": [],
   "source": [
    "RA0=[100013989, 1670700, 13956, 3084, 1628, 1576, 925, 542, 472, 346, 329, 307, 243, 212, 186, 175, 110, 98, 86,86, 65, 63, 57, 56, 49, 47, 45, 43, 39, 38, 37, 37, 36, 35, 33, 32, 32, 28, 28, 26]\n",
    "RB0=[0, 3.0984635, 3.05525, 5.1985, 1.1739, 2.8469, 5.453, 4.564, 3.661, 0.964, 5.900, 0.299, 4.273, 5.847, 5.022, 3.012, 5.055, 0.89, 5.69, 1.27, 0.27, 0.92, 2.01, 5.24, 3.25, 2.58, 5.54, 6.01, 5.36, 2.39, 0.83, 4.90, 1.67, 1.84, 0.24, 0.18, 1.78, 1.21, 1.90, 4.59]\n",
    "RC0=[0, 6283.0758500, 12566.15170, 77713.7715, 5753.3849, 7860.4194, 11506.770, 3930.210, 5884.927, 5507.553, 5223.694, 5573.143, 11790.629, 1577.344, 10977.079, 18849.228, 5486.778, 6069.78, 15720.84, 161000.69, 17260.15, 529.69, 83996.85, 71430.70, 2544.31, 775.52, 9437.76, 6275.96, 4694.00, 8827.39, 19651.05, 12139.55, 12036.46, 2942.46, 7084.90, 5088.63, 398.15, 6286.60, 6279.55, 10447.39]\n",
    "RA1=[103019,1721,702,32,31,25,18,10,9,9]\n",
    "RB1=[1.107490,1.0644,3.142,1.02,2.84,1.32,1.42,5.91,1.42,0.27]\n",
    "RC1=[6283.075850,12566.1517,0,18849.23,5507.55,5223.69,1577.34,10977.08,6275.96,5486.78]\n",
    "RA2=[4359,124,12,9,6,3]\n",
    "RB2=[5.7846,5.579,3.24,3.63,1.87,5.47]\n",
    "RC2=[6283.0758,12566.152,0,77713.77,5573.14,18849.23]\n",
    "RA3=[145,7]\n",
    "RB3=[4.273,3.92]\n",
    "RC3=[6283.076,12566.15]\n",
    "RA4=[4]\n",
    "RB4=[2.56]\n",
    "RC4=[6283.08]\n"
   ]
  },
  {
   "cell_type": "code",
   "execution_count": 85,
   "metadata": {},
   "outputs": [
    {
     "data": {
      "text/plain": [
       "1.0007105075927158"
      ]
     },
     "execution_count": 85,
     "metadata": {},
     "output_type": "execute_result"
    }
   ],
   "source": [
    "R0=sumatoria(RA0,RB0,RC0,tau)\n",
    "R1=sumatoria(RA1,RB1,RC1,tau)\n",
    "R2=sumatoria(RA2,RB2,RC2,tau)\n",
    "R3=sumatoria(RA3,RB3,RC3,tau)\n",
    "R4=sumatoria(RA4,RB4,RC4,tau)\n",
    "R= (R0+(R1*tau)+(R2*(tau**2)))+(R3*(tau**3))+(R4*(tau**4))\n",
    "R=R/(10**8)\n",
    "R"
   ]
  },
  {
   "cell_type": "code",
   "execution_count": 86,
   "metadata": {},
   "outputs": [
    {
     "data": {
      "text/plain": [
       "16.688052226236323"
      ]
     },
     "execution_count": 86,
     "metadata": {},
     "output_type": "execute_result"
    }
   ],
   "source": [
    "L_grados = L * (180 / math.pi)\n",
    "L_grados = L_grados %360\n",
    "Sol_long=L_grados+180\n",
    "lambda_prima= Sol_long%360\n",
    "lambda_prima"
   ]
  },
  {
   "cell_type": "code",
   "execution_count": 87,
   "metadata": {},
   "outputs": [
    {
     "data": {
      "text/plain": [
       "16.682364656186916"
      ]
     },
     "execution_count": 87,
     "metadata": {},
     "output_type": "execute_result"
    }
   ],
   "source": [
    "lambda_solo_aberration=lambda_prima-((20.4898/3600)/R)\n",
    "lambda_solo_aberration"
   ]
  },
  {
   "cell_type": "markdown",
   "metadata": {},
   "source": [
    "Eliptica"
   ]
  },
  {
   "cell_type": "code",
   "execution_count": 88,
   "metadata": {},
   "outputs": [
    {
     "data": {
      "text/plain": [
       "23.436713450270684"
      ]
     },
     "execution_count": 88,
     "metadata": {},
     "output_type": "execute_result"
    }
   ],
   "source": [
    "T=(JD-2451545)/36525\n",
    "omega=125.04452-(1934.136261*T)+(0.0020708*(T**2))+((T**3)/327270)\n",
    "ele=280.4665+36000.7698*T\n",
    "ele_prima=218.3165+481267.8813*T\n",
    "delta_e=((9.20/3600)*np.cos(omega*(180/math.pi)))+((0.57/3600)*np.cos(2*ele*(180/math.pi)))+((0.10/3600)*np.cos(2*ele_prima*(180/math.pi)))-((0.09/3600)*np.cos(2*omega*(180/math.pi)))\n",
    "epsilon_0=(23+(26/60)+(21.448/3600))-((46.8150/3600)*T)-((0.00059/3600)*(T**2))+((0.001813/3600)*(T**3))\n",
    "epsilon=epsilon_0+delta_e\n",
    "epsilon"
   ]
  },
  {
   "cell_type": "code",
   "execution_count": 91,
   "metadata": {},
   "outputs": [
    {
     "name": "stdout",
     "output_type": "stream",
     "text": [
      "La inclinación P entre el eje de rotación y el punto norte del sol es de: -26.253638150265786 grados\n"
     ]
    }
   ],
   "source": [
    "tan_x=-np.cos(lambda_prima*(math.pi/180))*np.tan(epsilon*(math.pi/180))\n",
    "tan_y=-np.cos((lambda_solo_aberration-K)*(math.pi/180))*np.tan(I*(math.pi/180))\n",
    "x=np.arctan(tan_x)\n",
    "y=np.arctan(tan_y)\n",
    "x=x*(180/math.pi)\n",
    "y=y*(180/math.pi)\n",
    "P=x+y\n",
    "print(\"La inclinación P entre el eje de rotación y el punto norte del sol es de: \"+str(P)+\" grados\")"
   ]
  },
  {
   "cell_type": "code",
   "execution_count": 95,
   "metadata": {},
   "outputs": [
    {
     "name": "stdout",
     "output_type": "stream",
     "text": [
      "La latitud heliografica del centro del disco solar es de: -6.237124840012163\n"
     ]
    }
   ],
   "source": [
    "sen_b0=np.sin((lambda_solo_aberration-K)*(math.pi/180))*np.sin(I*(math.pi/180))\n",
    "b0=np.arcsin(sen_b0)\n",
    "b0=b0*(180/math.pi)\n",
    "print(\"La latitud heliografica del centro del disco solar es de: \"+str(b0))"
   ]
  }
 ],
 "metadata": {
  "kernelspec": {
   "display_name": "base",
   "language": "python",
   "name": "python3"
  },
  "language_info": {
   "codemirror_mode": {
    "name": "ipython",
    "version": 3
   },
   "file_extension": ".py",
   "mimetype": "text/x-python",
   "name": "python",
   "nbconvert_exporter": "python",
   "pygments_lexer": "ipython3",
   "version": "3.9.7"
  }
 },
 "nbformat": 4,
 "nbformat_minor": 2
}
